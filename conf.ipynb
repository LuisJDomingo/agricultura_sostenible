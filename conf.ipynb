1. Configuración del Hardware
1.1. Conexión de Sensores a la Raspberry Pi


import RPi.GPIO as GPIO
import Adafruit_DHT
import time

# Configuración de pines GPIO
GPIO.setmode(GPIO.BCM)

# Configuración de pines para sensores
DHT_SENSOR = Adafruit_DHT.DHT22
DHT_PIN = 4  # Pin para sensor de temperatura y humedad

# Configuración de pines para relé de válvula de riego
VALVE_PIN = 17
GPIO.setup(VALVE_PIN, GPIO.OUT)

# Función para leer datos del sensor DHT22
def read_dht_sensor():
    humidity, temperature = Adafruit_DHT.read_retry(DHT_SENSOR, DHT_PIN)
    return humidity, temperature

# Función para activar/desactivar válvula de riego
def control_valve(state):
    GPIO.output(VALVE_PIN, state)

1.2. Recolección de Datos y Almacenamiento en Base de Datos

import sqlite3
from datetime import datetime

# Conexión a la base de datos SQLite
conn = sqlite3.connect('huerta.db')
c = conn.cursor()

# Creación de tabla para almacenar datos de sensores
c.execute('''
          CREATE TABLE IF NOT EXISTS sensor_data
          (timestamp TEXT, humidity REAL, temperature REAL, soil_moisture REAL)
          ''')

# Función para insertar datos en la base de datos
def insert_sensor_data(humidity, temperature, soil_moisture):
    timestamp = datetime.now().strftime('%Y-%m-%d %H:%M:%S')
    c.execute("INSERT INTO sensor_data (timestamp, humidity, temperature, soil_moisture) VALUES (?, ?, ?, ?)",
              (timestamp, humidity, temperature, soil_moisture))
    conn.commit()

# Ejemplo de recolección de datos
while True:
    humidity, temperature = read_dht_sensor()
    soil_moisture = read_soil_moisture_sensor()  # Implementar función para leer sensor de humedad del suelo
    insert_sensor_data(humidity, temperature, soil_moisture)
    time.sleep(3600)  # Recolectar datos cada hora


